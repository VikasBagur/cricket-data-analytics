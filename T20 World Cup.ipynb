{
 "cells": [
  {
   "cell_type": "markdown",
   "id": "305d6f1e",
   "metadata": {},
   "source": [
    "**Importing Packages**"
   ]
  },
  {
   "cell_type": "code",
   "execution_count": null,
   "id": "9d8e45cf",
   "metadata": {},
   "outputs": [],
   "source": [
    "from bs4 import BeautifulSoup\n",
    "import requests\n",
    "import pandas as pd\n",
    "import fnmatch"
   ]
  },
  {
   "cell_type": "markdown",
   "id": "73b59008",
   "metadata": {},
   "source": [
    "**Extracting data for dim_match_summary.csv**"
   ]
  },
  {
   "cell_type": "code",
   "execution_count": null,
   "id": "f7e03b17",
   "metadata": {},
   "outputs": [],
   "source": [
    "cricket_url = 'https://stats.espncricinfo.com/ci/engine/records/team/match_results.html?id=14450;type=tournament'\n",
    "\n",
    "\"\"\"\n",
    "The data in the website is stored in table format. Hence, I'm using pandas read_html to get all the data from the tables\n",
    "and storing it in match_results variable \n",
    "\"\"\"\n",
    "\n",
    "all_tables = pd.read_html(cricket_url)\n",
    "\n",
    "match_results = all_tables[0]\n",
    "match_results.to_csv(\"dim_match_summary.csv\",index=False)"
   ]
  },
  {
   "cell_type": "markdown",
   "id": "6507c583",
   "metadata": {},
   "source": [
    "**Extracting data for fact_batting_summary.csv and fact_bowling_summary.csv** "
   ]
  },
  {
   "cell_type": "code",
   "execution_count": null,
   "id": "f37e3343",
   "metadata": {},
   "outputs": [],
   "source": [
    "\"\"\"\n",
    "The batting and bowling data are stored in a link which is present within the website link stored in website_url.\n",
    "\n",
    "After retreiving data from website_url, we are extracting 'a' tags from the HTML file, which has a href present in it\n",
    "and only those links which match with pattern and pattern_1.\n",
    "\n",
    "Each link in the full_link list contains details about one match. So, we are looping over this list, to get the batting\n",
    "and bowling summary for each player in every match.\n",
    "\n",
    "Data from matches which were abandoned or had no result are not included in the csv file.\n",
    "\n",
    "\"\"\"\n",
    "\n",
    "website_url = 'https://www.espncricinfo.com/series/icc-men-s-t20-world-cup-2022-23-1298134/match-schedule-fixtures-and-results'\n",
    "headers = ({'User-Agent':'Mozilla/5.0 (Windows NT 10.0; Win64; x64) AppleWebKit/537.36 (KHTML, like Gecko) Chrome/110.0.0.0 Safari/537.36','Accept-Language': 'en-US, en;q=0.5'})\n",
    "\n",
    "webpage = requests.get(website_url, headers=headers)\n",
    "webpage_html = BeautifulSoup(webpage.content, \"html.parser\")\n",
    "\n",
    "links = []\n",
    "\n",
    "pattern = '*icc-men-s-t20-world-cup-2022-23-1298134*'\n",
    "pattern_1 = '*full-scorecard*'\n",
    "\n",
    "#Filtering only the links that match the patterns.\n",
    "for link in webpage_html.find_all('a', href=True):\n",
    "    if fnmatch.fnmatch(link['href'],pattern):\n",
    "        if fnmatch.fnmatch(link['href'],pattern_1):\n",
    "            links.append(link['href'])\n",
    "            \n",
    "full_link = [] \n",
    "\n",
    "for i in links:\n",
    "    j = 'https://www.espncricinfo.com/' + i\n",
    "    full_link.append(j)\n",
    "    \n",
    "batting_summary = pd.DataFrame()\n",
    "bowling_summary = pd.DataFrame()\n",
    "\n",
    "#Looping to extract data from all the matches\n",
    "for url in full_link:\n",
    "    \n",
    "    all_scorecards = pd.read_html(url)\n",
    "    \n",
    "    try: #To skip the matches which were abandoned or had no result.\n",
    "        batting_1 = all_scorecards[0]\n",
    "        batting_2 = all_scorecards[2]\n",
    "        \n",
    "        #Cleaning the data within the loop in order to add a sequence number (battingPosition column) for each match/innings\n",
    "        #This cannot be done outside the loop currently as there is no way to distinguish an innings in a single match.\n",
    "        batting_1 = batting_1.dropna(subset='BATTING')\n",
    "        batting_2 = batting_2.dropna(subset='BATTING')\n",
    "        \n",
    "        batting_1 = batting_1[batting_1.BATTING.isin(['TOTAL','Extras']) == False]\n",
    "        batting_2 = batting_2[batting_2.BATTING.isin(['TOTAL','Extras']) == False]\n",
    "        \n",
    "        batting_1 = batting_1[~batting_1.BATTING.str.contains('Did not bat', regex=True)]\n",
    "        batting_1 = batting_1[~batting_1.BATTING.str.contains('Fall of wickets', regex=True)]\n",
    "        batting_2 = batting_2[~batting_2.BATTING.str.contains('Did not bat', regex=True)]\n",
    "        batting_2 = batting_2[~batting_2.BATTING.str.contains('Fall of wickets', regex=True)]\n",
    "\n",
    "        batting_1['battingPosition'] = range(1,len(batting_1)+1)\n",
    "        batting_2['battingPosition'] = range(1,len(batting_2)+1)\n",
    "    \n",
    "    except:\n",
    "        continue\n",
    "    \n",
    "\n",
    "    try: #To skip the matches which were abandoned or had no result.\n",
    "        match_info = pd.DataFrame()\n",
    "        match_info = match_info.append(all_scorecards[4])\n",
    "        match_info.rename(columns = {0: 'Name'}, inplace = True)\n",
    "        match_info.rename(columns = {1: 'Value'}, inplace = True)\n",
    "        match_number = match_info[match_info.Name=='Match number'].Value.item()\n",
    "    \n",
    "        batting_summary = batting_summary.append(batting_1) \n",
    "        batting_summary = batting_summary.append(batting_2)\n",
    "        batting_summary = batting_summary.append({'match_number':match_number}, ignore_index=True)\n",
    "        \n",
    "        bowling_summary = bowling_summary.append(all_scorecards[1]) \n",
    "        bowling_summary = bowling_summary.append(all_scorecards[3])\n",
    "        bowling_summary = bowling_summary.append({'match_number':match_number}, ignore_index=True)\n",
    "    except:\n",
    "        continue\n"
   ]
  },
  {
   "cell_type": "markdown",
   "id": "8ff0176b",
   "metadata": {},
   "source": [
    "**Final Clean Up and saving the data as a csv file**"
   ]
  },
  {
   "cell_type": "code",
   "execution_count": null,
   "id": "0172dee9",
   "metadata": {},
   "outputs": [],
   "source": [
    "#Batting_summary clean up:\n",
    "\n",
    "batting_summary['match_number'] = batting_summary['match_number'].fillna(method = 'bfill')\n",
    "batting_summary.rename(columns = {'BATTING': 'batsmanName', 'Unnamed: 1':'wicket','R':'runs','B':'balls','4s':'fours','6s':'sixes'}, inplace = True)\n",
    "batting_summary = batting_summary.dropna(subset='batsmanName')\n",
    "batting_summary.drop(['M','Unnamed: 8','Unnamed: 8','Unnamed: 9'], axis = 1, inplace = True)\n",
    "batting_summary['match_number'] = batting_summary['match_number'].replace(\"no.\",\"#\", regex=True)\n",
    "\n",
    "\n",
    "#Bowling_summary clean up:\n",
    "\n",
    "bowling_summary['match_number'] = bowling_summary['match_number'].fillna(method = 'bfill')\n",
    "bowling_summary = bowling_summary.dropna(subset='BOWLING')\n",
    "bowling_summary['match_number'] = bowling_summary['match_number'].replace(\"no.\",\"#\", regex=True)\n",
    "bowling_summary.rename(columns = {'BOWLING': 'bowlerName', 'O':'overs','R':'runs',\\\n",
    "                                  'M':'maiden','4s':'fours','6s':'sixes'\\\n",
    "                                 ,'W':'wickets','ECON':'economy','0s':'zeroes','WD':'wides','NB':'noBalls'}, inplace = True)\n",
    "\n",
    "for i in bowling_summary['BOWLING']:\n",
    "    if i[0].isdigit():\n",
    "        bowling_summary = bowling_summary[bowling_summary.BOWLING.isin([i]) == False]\n",
    "        \n",
    "batting_summary.to_csv('fact_batting_summary.csv',index=False)\n",
    "bowling_summary.to_csv('fact_bowling_summary.csv',index=False)"
   ]
  },
  {
   "cell_type": "code",
   "execution_count": null,
   "id": "140e7b0e",
   "metadata": {},
   "outputs": [],
   "source": []
  },
  {
   "cell_type": "code",
   "execution_count": null,
   "id": "9d2a30ea",
   "metadata": {},
   "outputs": [],
   "source": []
  },
  {
   "cell_type": "code",
   "execution_count": null,
   "id": "c1180d40",
   "metadata": {},
   "outputs": [],
   "source": []
  },
  {
   "cell_type": "code",
   "execution_count": null,
   "id": "263bf926",
   "metadata": {},
   "outputs": [],
   "source": []
  }
 ],
 "metadata": {
  "kernelspec": {
   "display_name": "Python 3 (ipykernel)",
   "language": "python",
   "name": "python3"
  },
  "language_info": {
   "codemirror_mode": {
    "name": "ipython",
    "version": 3
   },
   "file_extension": ".py",
   "mimetype": "text/x-python",
   "name": "python",
   "nbconvert_exporter": "python",
   "pygments_lexer": "ipython3",
   "version": "3.9.13"
  }
 },
 "nbformat": 4,
 "nbformat_minor": 5
}
